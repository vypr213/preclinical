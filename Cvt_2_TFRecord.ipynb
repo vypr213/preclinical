{
 "cells": [
  {
   "cell_type": "markdown",
   "metadata": {},
   "source": [
    "# Install required packages"
   ]
  },
  {
   "cell_type": "code",
   "execution_count": 4,
   "metadata": {},
   "outputs": [
    {
     "name": "stdout",
     "output_type": "stream",
     "text": [
      "Collecting pydicom\n",
      "\u001b[?25l  Downloading https://files.pythonhosted.org/packages/53/e6/4cae2b4b2fdbea5e2ddd188361139606d8f10f710ba1abecd6600da099c3/pydicom-1.4.2-py2.py3-none-any.whl (35.3MB)\n",
      "\u001b[K     |████████████████████████████████| 35.3MB 149kB/s eta 0:00:01    |█████▌                          | 6.1MB 5.6MB/s eta 0:00:06     |██████████▏                     | 11.2MB 5.6MB/s eta 0:00:05     |███████████████████▍            | 21.4MB 3.1MB/s eta 0:00:05     |█████████████████████           | 23.2MB 3.1MB/s eta 0:00:04      | 23.3MB 1.0MB/s eta 0:00:12     |███████████████████████████▋    | 30.4MB 1.0MB/s eta 0:00:05     |█████████████████████████████   | 31.9MB 1.2MB/s eta 0:00:03     |█████████████████████████████▋  | 32.6MB 1.2MB/s eta 0:00:03     |█████████████████████████████▉  | 32.9MB 1.2MB/s eta 0:00:03��████████████████  | 33.2MB 1.2MB/s eta 0:00:02\n",
      "\u001b[?25hInstalling collected packages: pydicom\n",
      "Successfully installed pydicom-1.4.2\n"
     ]
    }
   ],
   "source": [
    "!pip install pydicom"
   ]
  },
  {
   "cell_type": "markdown",
   "metadata": {},
   "source": [
    "# Imports"
   ]
  },
  {
   "cell_type": "code",
   "execution_count": 10,
   "metadata": {},
   "outputs": [],
   "source": [
    "import tensorflow as tf\n",
    "import numpy as np\n",
    "import matplotlib.pyplot as plt\n",
    "\n",
    "import pydicom as dicom\n",
    "import os"
   ]
  },
  {
   "cell_type": "markdown",
   "metadata": {},
   "source": [
    "# Code to Serialize to TFRecord"
   ]
  },
  {
   "cell_type": "code",
   "execution_count": 9,
   "metadata": {},
   "outputs": [],
   "source": [
    "def _bytes_feature(value):\n",
    "  \"\"\"\n",
    "  Returns a bytes list from a string or byte.\n",
    "  \"\"\"\n",
    "  \n",
    "  if isinstance(value, type(tf.constant(0))):\n",
    "    # BytesList won't unpack a string from an EagerTensor\n",
    "    value = value.numpy()\n",
    "  \n",
    "  return tf.train.Feature(bytes_list=tf.train.BytesList(value=[value]))\n",
    "\n",
    "def _float_feature(value):\n",
    "  \"\"\"\n",
    "  Returns a float list from a float or double.\n",
    "  \"\"\"\n",
    "  return tf.train.Feature(float_list=tf.train.FloatList(value=[value]))\n",
    "\n",
    "def _int64_feature(value):\n",
    "  \"\"\"\n",
    "  Returns an int64_list from a bool/enum/int/uint.\n",
    "  \"\"\"\n",
    "  return tf.train.Feature(int64_list=tf.train.Int64List(value=[value]))\n",
    "\n",
    "\n",
    "def serialize_example(image, label):\n",
    "  \"\"\"\n",
    "  Creates a tf.Example ready to be written to a file.\n",
    "  \"\"\"\n",
    "\n",
    "  assert(image.shape == label.shape)\n",
    "\n",
    "  img_shape = image.shape\n",
    "\n",
    "  height_feature = _int64_feature(img_shape[0])\n",
    "  width_feature  = _int64_feature(img_shape[1])\n",
    "  \n",
    "  img_feature = _bytes_feature(image.tostring())\n",
    "  lab_feature = _bytes_feature(label.tostring())\n",
    "\n",
    "  feature_dict = {\n",
    "      \"height\": height_feature,\n",
    "      \"width\" : width_feature,\n",
    "      \"image\" : img_feature,\n",
    "      \"label\" : lab_feature\n",
    "  }\n",
    "\n",
    "  wrapped_features = tf.train.Features(feature=feature_dict)\n",
    "  example = tf.train.Example(features=wrapped_features)\n",
    "\n",
    "  return example.SerializeToString()\n",
    "\n",
    "def serialize_example_sparse(image, label):\n",
    "  \"\"\"\n",
    "  Creates a tf.Example ready to be written to a file.\n",
    "  \n",
    "  Since most of the masks are filled with zerors,\n",
    "  it is more efficient to store sparse\n",
    "  representation of the masks i.e. store only\n",
    "  the non-zero values and their corresponding positions\n",
    "  in the matrix.\n",
    "  \"\"\"\n",
    "\n",
    "  assert(image.shape == label.shape)\n",
    "\n",
    "  img_shape = image.shape\n",
    "\n",
    "  # height and width are integer values\n",
    "  height_feature = _int64_feature(img_shape[0])\n",
    "  width_feature  = _int64_feature(img_shape[1])\n",
    "  \n",
    "  # matrices should be stored as a sequence of bytes\n",
    "  img_feature    = _bytes_feature(image.tostring())\n",
    "\n",
    "  # store sparse representation of labels/masks\n",
    "  # First, locations\n",
    "  indices        = np.argwhere(label != 0)\n",
    "  lab_inds       = _bytes_feature(indices.tostring())\n",
    "\n",
    "  # Then, the actual values itself\n",
    "  #\n",
    "  # If we assume all values are just 1s, then we might\n",
    "  # be able to avoid storing the values and save even\n",
    "  # more, but for now keep it simple.\n",
    "  values         = label[label != 0]\n",
    "  lab_vals       = _bytes_feature(values.tostring())\n",
    "\n",
    "  # Store the number of non-zero vals so that we can re-create\n",
    "  # the label in dense format\n",
    "  lab_n_vals     = _int64_feature(values.shape[0])\n",
    "\n",
    "  feature_dict = {\n",
    "      \"height\"      : height_feature,\n",
    "      \"width\"       : width_feature,\n",
    "      \"image\"       : img_feature,\n",
    "      \"lab_indices\" : lab_inds,\n",
    "      \"lab_values\"  : lab_vals,\n",
    "      \"lab_n_vals\"  : lab_n_vals\n",
    "  }\n",
    "\n",
    "  wrapped_features = tf.train.Features(feature=feature_dict)\n",
    "  example = tf.train.Example(features=wrapped_features)\n",
    "\n",
    "  return example.SerializeToString()"
   ]
  },
  {
   "cell_type": "markdown",
   "metadata": {},
   "source": [
    "# Reading raw DICOM data"
   ]
  },
  {
   "cell_type": "code",
   "execution_count": 7,
   "metadata": {},
   "outputs": [],
   "source": [
    "def read_dicom(img_F, lab_F):\n",
    "  ds = dicom.dcmread(img_F)\n",
    "  img = ds.pixel_array\n",
    "\n",
    "  roi_arr=np.loadtxt(lab_F,\n",
    "                     delimiter = ';',\n",
    "                     skiprows=2,\n",
    "                     dtype=np.int16)\n",
    "  \n",
    "  mask = np.zeros(img.shape, dtype=img.dtype)\n",
    "  x_coords = roi_arr[:, 1]//2\n",
    "  y_coords = roi_arr[:, 0]//2\n",
    "\n",
    "  mask[x_coords, y_coords] = 1\n",
    "  \n",
    "  return img, mask"
   ]
  },
  {
   "cell_type": "markdown",
   "metadata": {},
   "source": [
    "# Plotting images with labels"
   ]
  },
  {
   "cell_type": "code",
   "execution_count": 8,
   "metadata": {},
   "outputs": [],
   "source": [
    "def plot_img_with_label(image, label):\n",
    "  # In order to only show non-zero component of label,\n",
    "  # set zero component to NAN\n",
    "  label = np.ma.masked_where(label == 0, label)\n",
    "\n",
    "  fig, (ax1, ax2) = plt.subplots(ncols=2, dpi=100)\n",
    "  _ = ax1.imshow(image, cmap='gray')\n",
    "  _ = ax1.set_title(\"Base image\")\n",
    "  _ = ax1.axis(\"off\")\n",
    "\n",
    "  _ = ax2.imshow(image, cmap='gray')\n",
    "  _ = ax2.imshow(label, cmap='jet')\n",
    "  _ = ax2.set_title(\"Base image with label\")\n",
    "  _ = ax2.axis(\"off\")"
   ]
  },
  {
   "cell_type": "markdown",
   "metadata": {},
   "source": [
    "# Create example IDs"
   ]
  },
  {
   "cell_type": "code",
   "execution_count": 13,
   "metadata": {},
   "outputs": [
    {
     "name": "stdout",
     "output_type": "stream",
     "text": [
      "/home/jovyan/work/Segment/Segment MRI\r\n"
     ]
    }
   ],
   "source": [
    "!pwd"
   ]
  },
  {
   "cell_type": "code",
   "execution_count": 18,
   "metadata": {},
   "outputs": [],
   "source": [
    "def create_example_ids(data_dir):\n",
    "    example_ids = []\n",
    "    for f in os.listdir(os.path.join(data_dir)):\n",
    "        f, _ = os.path.splitext(f)\n",
    "        example_ids.append(f)\n",
    "    \n",
    "    return example_ids\n",
    "\n",
    "DATA_BASE_DIR = \"/home/jovyan/work/Segment/Segment MRI/\"\n",
    "DICOM_DIR = DATA_BASE_DIR + \"DICOM\"\n",
    "ROI_DIR   = DATA_BASE_DIR + \"Data/ROIs\"\n",
    "TFR_DIR   = DATA_BASE_DIR + \"TFR_Data\"\n",
    "\n",
    "example_ids = create_example_ids(DICOM_DIR)"
   ]
  },
  {
   "cell_type": "code",
   "execution_count": 19,
   "metadata": {},
   "outputs": [
    {
     "name": "stdout",
     "output_type": "stream",
     "text": [
      "5113\n"
     ]
    }
   ],
   "source": [
    "print(len(example_ids))"
   ]
  },
  {
   "cell_type": "markdown",
   "metadata": {},
   "source": [
    "# Function to create the TFRecords"
   ]
  },
  {
   "cell_type": "code",
   "execution_count": 17,
   "metadata": {},
   "outputs": [],
   "source": [
    "def create_TFRecords_for_2D(data_dir, label_dir, dest_dir, example_ids):\n",
    "    for example_id in example_ids:\n",
    "        dcm_F = data_dir  + \"/\" + example_id + \".dcm\"\n",
    "        roi_F = label_dir + \"/\" + example_id + \".txt\"\n",
    "        \n",
    "        tfrecord_F = dest_dir + \"/\" + example_id + \".tfr\"\n",
    "        \n",
    "        # Create TFRecords only for examples with valid ROIs\n",
    "        if(not os.path.exists(roi_F)):\n",
    "            continue\n",
    "        \n",
    "        with tf.io.TFRecordWriter(tfrecord_F) as writer:\n",
    "            image, label = read_dicom(dcm_F, roi_F)\n",
    "            serialized_example = serialize_example_sparse(image, label)\n",
    "            writer.write(serialized_example)\n",
    "    "
   ]
  },
  {
   "cell_type": "code",
   "execution_count": 20,
   "metadata": {},
   "outputs": [],
   "source": [
    "DATA_BASE_DIR = \"/home/jovyan/work/Segment/Segment MRI/\"\n",
    "DICOM_DIR = DATA_BASE_DIR + \"DICOM\"\n",
    "ROI_DIR   = DATA_BASE_DIR + \"Data/ROIs\"\n",
    "TFR_DIR   = DATA_BASE_DIR + \"TFR_Data\"\n",
    "\n",
    "create_TFRecords_for_2D(DICOM_DIR, ROI_DIR, TFR_DIR, example_ids)"
   ]
  },
  {
   "cell_type": "code",
   "execution_count": 22,
   "metadata": {},
   "outputs": [
    {
     "name": "stdout",
     "output_type": "stream",
     "text": [
      "1min 16s ± 1.05 s per loop (mean ± std. dev. of 7 runs, 1 loop each)\n"
     ]
    }
   ],
   "source": [
    "%timeit create_TFRecords_for_2D(DICOM_DIR, ROI_DIR, TFR_DIR, example_ids)"
   ]
  },
  {
   "cell_type": "code",
   "execution_count": 23,
   "metadata": {},
   "outputs": [
    {
     "name": "stdout",
     "output_type": "stream",
     "text": [
      "34.4 ms ± 3.22 ms per loop (mean ± std. dev. of 7 runs, 10 loops each)\n"
     ]
    }
   ],
   "source": [
    "test_ids = [\"1470_20133_00009\"]\n",
    "%timeit create_TFRecords_for_2D(DICOM_DIR, ROI_DIR, TFR_DIR, test_ids)"
   ]
  },
  {
   "cell_type": "code",
   "execution_count": 24,
   "metadata": {},
   "outputs": [
    {
     "name": "stdout",
     "output_type": "stream",
     "text": [
      "67.99456453323364\n"
     ]
    }
   ],
   "source": [
    "import time\n",
    "\n",
    "start = time.time()\n",
    "create_TFRecords_for_2D(DICOM_DIR, ROI_DIR, TFR_DIR, example_ids)\n",
    "end = time.time()\n",
    "print(end - start)"
   ]
  },
  {
   "cell_type": "code",
   "execution_count": null,
   "metadata": {},
   "outputs": [],
   "source": []
  }
 ],
 "metadata": {
  "kernelspec": {
   "display_name": "Python 3",
   "language": "python",
   "name": "python3"
  },
  "language_info": {
   "codemirror_mode": {
    "name": "ipython",
    "version": 3
   },
   "file_extension": ".py",
   "mimetype": "text/x-python",
   "name": "python",
   "nbconvert_exporter": "python",
   "pygments_lexer": "ipython3",
   "version": "3.7.3"
  }
 },
 "nbformat": 4,
 "nbformat_minor": 2
}
